{
 "cells": [
  {
   "cell_type": "markdown",
   "metadata": {},
   "source": [
    "# Kod\n",
    "Dużo go, zacznę go przerzucać do osobnego pliku od następnych labów"
   ]
  },
  {
   "cell_type": "code",
   "execution_count": 247,
   "metadata": {},
   "outputs": [],
   "source": [
    "import numpy as np\n",
    "import pandas as pd\n",
    "import matplotlib.pyplot as plt\n",
    "import pickle\n",
    "\n",
    "def MSE(x, y):\n",
    "    return np.sum((x - y)**2) / len(x)\n",
    "\n",
    "def lin_act(x):\n",
    "    return x\n",
    "\n",
    "def sigmoid(x):\n",
    "    return 1 / (1 + np.exp(-x))\n",
    "\n",
    "def grad_sigmoid(x):\n",
    "    return sigmoid(x) * (1 - sigmoid(x))\n",
    "\n",
    "class Layer:   \n",
    "    def __init__(self, neurons, input_shape, weights, bias, activation):\n",
    "        self.neurons = neurons\n",
    "        self.input_shape = input_shape\n",
    "        \n",
    "        assert weights.shape == (input_shape[1], neurons)\n",
    "        self.weights = weights\n",
    "        \n",
    "        assert bias.shape == (1, neurons)\n",
    "        self.bias = bias\n",
    "        \n",
    "        self.activation = activation\n",
    "        self.last_a = None\n",
    "    \n",
    "    \n",
    "    def make_factory(neurons, input_shape, activation, factory):\n",
    "        return Layer(\n",
    "            neurons = neurons,\n",
    "            input_shape = input_shape,\n",
    "            weights = factory((input_shape[1], neurons)),\n",
    "            bias = factory((1, neurons)),\n",
    "            activation = activation\n",
    "        )\n",
    "    \n",
    "    def make_zero(neurons, input_shape, activation):\n",
    "        return Layer.make_factory(neurons, input_shape, activation, np.zeros)\n",
    "    \n",
    "    def make_random(neurons, input_shape, activation):\n",
    "        random_balanced = lambda shape: np.random.random(shape) - 0.5\n",
    "        return Layer.make_factory(neurons, input_shape, activation, random_balanced)\n",
    "    \n",
    "    def apply(self, inputs):\n",
    "        intensities = inputs @ self.weights\n",
    "        self.last_a = intensities + self.bias\n",
    "        return self.activation(intensities + self.bias)\n",
    "    \n",
    "    def apply_no_intensities(self, inputs):\n",
    "        intensities = inputs @ self.weights\n",
    "        return self.activation(intensities + self.bias)\n",
    "    \n",
    "    def __str__(self):\n",
    "        return f\"LAYER(\\nW:\\n {repr(self.weights)} \\nb:\\n{repr(self.bias)})\\n\"\n",
    "    \n",
    "    def __repr__(self):\n",
    "        return str(self)\n",
    "\n",
    "\n",
    "class NN:\n",
    "    def __init__(self, *layers, input_shape):\n",
    "        self.input_shape = input_shape\n",
    "        self.layers = [*layers]\n",
    "        self.errors = None\n",
    "        self.last_inputs = None\n",
    "        \n",
    "    def get_last_shape(self):\n",
    "        if self.layers:\n",
    "            return self.layers[-1].weights.shape\n",
    "        else:\n",
    "            return self.input_shape\n",
    "    \n",
    "    def add_new_zero_layer(self, neurons, activation=sigmoid):\n",
    "        layer = Layer.make_zero(\n",
    "            neurons,\n",
    "            self.get_last_shape(),\n",
    "            activation\n",
    "        )\n",
    "        self.layers.append(layer)\n",
    "        return layer\n",
    "    \n",
    "    def add_new_random_layer(self, neurons, activation=sigmoid):\n",
    "        layer = Layer.make_random(\n",
    "            neurons,\n",
    "            self.get_last_shape(),\n",
    "            activation\n",
    "        )\n",
    "        self.layers.append(layer)\n",
    "        return layer\n",
    "        \n",
    "    def apply(self, inputs):\n",
    "        self.last_inputs = inputs\n",
    "        x = inputs\n",
    "        for layer in self.layers:\n",
    "            x = layer.apply(x)\n",
    "        return x\n",
    "    \n",
    "    def calculate_errors(self, yhat, y):\n",
    "        errors = [None] * len(self.layers)\n",
    "        errors[-1] = (yhat - y)\n",
    "        for i in range(len(errors)-2, -1, -1):\n",
    "            uhm = errors[i+1] @ np.transpose(self.layers[i+1].weights)\n",
    "            errors[i] = grad_sigmoid(self.layers[i].last_a) * uhm\n",
    "        return errors\n",
    "    \n",
    "    def calculate_grads(self, errors):\n",
    "        grad = [None] * len(self.layers)\n",
    "        grad_b = [None] * len(self.layers)\n",
    "        \n",
    "        for k in range(len(errors)):\n",
    "            if k == 0:\n",
    "                f_a = self.layers[0].activation(self.last_inputs)\n",
    "            else:\n",
    "                cur_layer = self.layers[k-1]\n",
    "                f_a = cur_layer.activation(cur_layer.last_a)\n",
    "            \n",
    "            grad[k] = np.transpose(f_a) @ errors[k]\n",
    "            grad_b[k] = errors[k] \n",
    "        return grad, grad_b\n",
    "    \n",
    "    def get_zero_grads(self):\n",
    "        grad = [None] * len(self.layers)\n",
    "        grad_b = [None] * len(self.layers)\n",
    "        for i, layer in enumerate(self.layers):\n",
    "            grad[i] = np.zeros(layer.weights.shape)\n",
    "            grad_b[i] = np.zeros(layer.bias.shape)\n",
    "        return grad, grad_b\n",
    "    \n",
    "    def backpropagate(self, yhat, y):\n",
    "        errors = self.calculate_errors(yhat, y)\n",
    "        return self.calculate_grads(errors)\n",
    "    \n",
    "    def gradient_descent(self, x, y, rate=1e-3):\n",
    "        sumg, sumgb = self.get_zero_grads()\n",
    "            \n",
    "        for i, x_i in enumerate(x):\n",
    "            yhat = self.apply(x_i)\n",
    "            g, gb = self.backpropagate(yhat, y[i])\n",
    "            for i in range(len(self.layers)):\n",
    "                sumg[i]  -= rate * g[i]\n",
    "                sumgb[i] -= rate * gb[i]\n",
    "        \n",
    "        for i in range(len(self.layers)):\n",
    "            self.layers[i].weights += sumg[i]/x.shape[0]\n",
    "            self.layers[i].bias += sumgb[i]/x.shape[0]\n",
    "            \n",
    "    def batch_descent(self, x, y, rate=1e-3, batch_size=x.shape[0]//10):\n",
    "        indexes = np.random.randint(x.shape[0], size=(batch_size, 1))\n",
    "        x_chosen = x[indexes]\n",
    "        y_chosen = y[indexes]\n",
    "        \n",
    "        self.gradient_descent(x_chosen, y_chosen, rate=rate)\n",
    "            \n",
    "    def stochastic_descent(self, x, y, rate=1e-3):\n",
    "        index = np.random.randint(x.shape[0])\n",
    "        x_i = x[index]\n",
    "        y_i = y[index]\n",
    "        yhat_i = self.apply(x_i)\n",
    "        g, gb = self.backpropagate(yhat_i, y_i)\n",
    "        for i in range(len(self.layers)):\n",
    "            self.layers[i].weights -= rate*g[i]\n",
    "            self.layers[i].bias -= rate*gb[i]"
   ]
  },
  {
   "cell_type": "markdown",
   "metadata": {},
   "source": [
    "# Simple squares\n",
    "\n",
    "## Dane i architektura\n",
    "Odpowiednio: 1, 15, 15, 1 neuronów. Ostatnia warstwa z liniową funkcją aktywacji."
   ]
  },
  {
   "cell_type": "code",
   "execution_count": 111,
   "metadata": {},
   "outputs": [],
   "source": [
    "df = pd.read_csv(\"LAB1_DANE/regression/square-simple-training.csv\")\n",
    "x = np.array(df.iloc[:,1]).reshape((100, 1))\n",
    "y = np.array(df.iloc[:,2]).reshape((100, 1))\n",
    "\n",
    "df_test = pd.read_csv(\"LAB1_DANE/regression/square-simple-test.csv\")\n",
    "x_test = np.array(df_test.iloc[:,1]).reshape((100, 1))\n",
    "y_test = np.array(df_test.iloc[:,2]).reshape((100, 1))"
   ]
  },
  {
   "cell_type": "code",
   "execution_count": 110,
   "metadata": {},
   "outputs": [],
   "source": [
    "nn = NN(input_shape=(0,1))\n",
    "h1 = nn.add_new_random_layer(15)\n",
    "h2 = nn.add_new_random_layer(15)\n",
    "ol = nn.add_new_random_layer(1, activation=lin_act)"
   ]
  },
  {
   "cell_type": "markdown",
   "metadata": {},
   "source": [
    "## Problem\n",
    "Napotkałem się z problemem, gdzie sieć nie jest w stanie nauczyć się spadków.\n",
    "Z tego powodu, tworzy się dosyć dziwny wykres, który wygląda jakby sieć nie dostawała części wzorców.\n",
    "\n",
    "### Demonstracja"
   ]
  },
  {
   "cell_type": "code",
   "execution_count": 166,
   "metadata": {},
   "outputs": [],
   "source": [
    "nn1 = NN(input_shape=(0,1))\n",
    "h11 = nn1.add_new_random_layer(15)\n",
    "h21 = nn1.add_new_random_layer(15)\n",
    "ol1 = nn1.add_new_random_layer(1, activation=lin_act)"
   ]
  },
  {
   "cell_type": "code",
   "execution_count": 175,
   "metadata": {},
   "outputs": [],
   "source": [
    "for _ in range(10000):\n",
    "    nn1.gradient_descent(x, y)\n"
   ]
  },
  {
   "cell_type": "code",
   "execution_count": 176,
   "metadata": {},
   "outputs": [
    {
     "name": "stdout",
     "output_type": "stream",
     "text": [
      "MSE (train): 2422.8\n"
     ]
    },
    {
     "data": {
      "image/png": "[encoded data removed]",
      "text/plain": [
       "<Figure size 432x288 with 1 Axes>"
      ]
     },
     "metadata": {
      "needs_background": "light"
     },
     "output_type": "display_data"
    }
   ],
   "source": [
    "print(f\"MSE (train): {MSE(nn1.apply(x), y):.5}\")\n",
    "\n",
    "plt.scatter(\n",
    "    x,\n",
    "    nn1.apply(x)\n",
    ")\n",
    "\n",
    "plt.scatter(\n",
    "    x,\n",
    "    y\n",
    ")\n",
    "plt.title(\"squares-simple, train\")\n",
    "plt.legend([\"yhat\", \"y\"])\n",
    "plt.show()"
   ]
  },
  {
   "cell_type": "markdown",
   "metadata": {},
   "source": [
    "### Diagnoza\n",
    "Problem znajduje się w wagach. Ponieważ wagi początkowe znajdują się w okolicy 0, to są \"ściągane\" w dół, sprawiając, że wszystkie są podobnej wielkości, przez co sieć znajduje (słabe) lokalne minimum i nie może z niego wyjść."
   ]
  },
  {
   "cell_type": "code",
   "execution_count": 192,
   "metadata": {},
   "outputs": [
    {
     "data": {
      "text/plain": [
       "LAYER(\n",
       "W:\n",
       " array([[-15.65601668],\n",
       "       [-14.75661811],\n",
       "       [-12.36834769],\n",
       "       [-14.93839096],\n",
       "       [-16.50373577],\n",
       "       [-13.86340039],\n",
       "       [-10.21365373],\n",
       "       [-14.78214688],\n",
       "       [-15.3897255 ],\n",
       "       [-11.91598382],\n",
       "       [-15.18219832],\n",
       "       [-15.7719353 ],\n",
       "       [-15.65109233],\n",
       "       [-14.95721629],\n",
       "       [-15.3796919 ]]) \n",
       "b:\n",
       "array([[139.52406983]]))"
      ]
     },
     "execution_count": 192,
     "metadata": {},
     "output_type": "execute_result"
    }
   ],
   "source": [
    "ol1"
   ]
  },
  {
   "cell_type": "code",
   "execution_count": 195,
   "metadata": {},
   "outputs": [
    {
     "data": {
      "text/plain": [
       "LAYER(\n",
       "W:\n",
       " array([[ 2.11905099, -0.98417761,  2.50940426,  2.1791902 , -1.11348819,\n",
       "         2.21376362, -2.24709782, -2.42136183, -2.9211759 , -1.91946932,\n",
       "        -2.46723701,  2.72943849,  0.74477006, -2.24351148, -1.25825142]]) \n",
       "b:\n",
       "array([[-2.0650371 ,  0.94827604, -3.03281191, -2.19627025,  1.21406242,\n",
       "        -2.33844867,  3.36438612,  3.57742074,  4.79093895,  2.57764608,\n",
       "         3.82911425, -2.53166633,  0.06189781,  3.046385  ,  1.50416305]]))"
      ]
     },
     "execution_count": 195,
     "metadata": {},
     "output_type": "execute_result"
    }
   ],
   "source": [
    "h11"
   ]
  },
  {
   "cell_type": "markdown",
   "metadata": {},
   "source": [
    "### Rozwiązanie 1: Wybicie wag\n",
    "Najprostszy sposób jaki znalazłem, to zwiększenie zakresu (wybicie) wag. Dzięki temu jest duża szansa, że nie każda waga się zminusuje. Nie jest to najbardziej eleganckie rozwiązanie, ale zadziałało i udało mi się nauczyć sieć zbioru `squares-simple`."
   ]
  },
  {
   "cell_type": "code",
   "execution_count": null,
   "metadata": {},
   "outputs": [],
   "source": [
    "h1.weights *= 30\n",
    "h2.weights *= 30\n",
    "ol.weights *= 30"
   ]
  },
  {
   "cell_type": "markdown",
   "metadata": {},
   "source": [
    "### Rozwiązanie 2: Skalowanie y\n",
    "Oryginalnie chciałem pokazać, że ta metoda mi nie działa, ale chyba miałem błąd w implementacji `gradient_descent`. Po ponownym uruchomieniu zadziałało, tylko potrzebne są odpowiednio większe `rate`, ponieważ w przeciwnym wypadku gradienty są zbyt małe, i bardzo długo zbiega do niezłego rozwiązania."
   ]
  },
  {
   "cell_type": "code",
   "execution_count": 181,
   "metadata": {},
   "outputs": [],
   "source": [
    "def make_scaler(x_vec):\n",
    "    x_max = np.max(x_vec)\n",
    "    x_min = np.min(x_vec)\n",
    "    def scaler(x):\n",
    "        nonlocal x_max, x_min\n",
    "        return (x - x_min) / (x_max - x_min)\n",
    "    def rev_scaler(x):\n",
    "        nonlocal x_max, x_min\n",
    "        return x * (x_max - x_min) + x_min\n",
    "    return scaler, rev_scaler"
   ]
  },
  {
   "cell_type": "code",
   "execution_count": 182,
   "metadata": {},
   "outputs": [],
   "source": [
    "scaler_ssq, rscaler_ssq = make_scaler(y)\n",
    "y_s = scaler_ssq(y)"
   ]
  },
  {
   "cell_type": "code",
   "execution_count": 191,
   "metadata": {},
   "outputs": [
    {
     "data": {
      "text/plain": [
       "array([-129.94284392])"
      ]
     },
     "execution_count": 191,
     "metadata": {},
     "output_type": "execute_result"
    }
   ],
   "source": [
    "y[1]"
   ]
  },
  {
   "cell_type": "code",
   "execution_count": 190,
   "metadata": {},
   "outputs": [
    {
     "data": {
      "text/plain": [
       "array([-129.94284392])"
      ]
     },
     "execution_count": 190,
     "metadata": {},
     "output_type": "execute_result"
    }
   ],
   "source": [
    "rscaler_ssq(scaler_ssq(y))[1]"
   ]
  },
  {
   "cell_type": "code",
   "execution_count": 218,
   "metadata": {},
   "outputs": [],
   "source": [
    "nn2 = NN(input_shape=(0,1))\n",
    "h12 = nn2.add_new_random_layer(15)\n",
    "h22 = nn2.add_new_random_layer(15)\n",
    "ol2 = nn2.add_new_random_layer(1, activation=lin_act)"
   ]
  },
  {
   "cell_type": "code",
   "execution_count": 219,
   "metadata": {},
   "outputs": [
    {
     "name": "stdout",
     "output_type": "stream",
     "text": [
      " 110.18050545189693"
     ]
    }
   ],
   "source": [
    "for i in range(10000):\n",
    "    nn2.gradient_descent(x, y_s, rate=.5)\n",
    "    if i % 100 == 0:\n",
    "        mse = MSE(rscaler_ssq(nn2.apply(x)),y)\n",
    "        print('\\r', mse, end='')"
   ]
  },
  {
   "cell_type": "code",
   "execution_count": 220,
   "metadata": {},
   "outputs": [
    {
     "name": "stdout",
     "output_type": "stream",
     "text": [
      "MSE (train): 110.18\n"
     ]
    },
    {
     "data": {
      "image/png": "[encoded data removed]",
      "text/plain": [
       "<Figure size 432x288 with 1 Axes>"
      ]
     },
     "metadata": {
      "needs_background": "light"
     },
     "output_type": "display_data"
    }
   ],
   "source": [
    "print(f\"MSE (train): {MSE(rscaler_ssq(nn2.apply(x)), y):.5}\")\n",
    "\n",
    "plt.scatter(\n",
    "    x,\n",
    "    rscaler_ssq(nn2.apply(x))\n",
    ")\n",
    "\n",
    "plt.scatter(\n",
    "    x,\n",
    "    y\n",
    ")\n",
    "plt.title(\"squares-simple, train\")\n",
    "plt.legend([\"yhat\", \"y\"])\n",
    "plt.show()"
   ]
  },
  {
   "cell_type": "markdown",
   "metadata": {},
   "source": [
    "## Trening\n",
    "*(Wykorzystałem metodę wybicia wag, bo myślałem, że skalowanie nie działa.)*\n",
    "\n",
    "Jedna obserwacja w zbiorze testowym jest spoza zakresu zbioru treningowego.\n",
    "Dla wyniku poniżej 4.0 trzeba było zejść **bardzo** nisko z MSE na treningowym. \n",
    "Plus jest taki, że testowana sieć jest w miarę mała, więc nie ma problemu z przeuczeniem.\n",
    "\n",
    "Do zwykłego algorytmu nauczania dorzuciłem:\n",
    "* redukcję prędkości uczenia, gdy zejdzie poniżej 100 MSE\n",
    "* złamanie pętli, gdy MSE zejdzie do porządanego poziomu.\n",
    "* raportowanie MSE na bierząco"
   ]
  },
  {
   "cell_type": "code",
   "execution_count": 162,
   "metadata": {},
   "outputs": [
    {
     "name": "stdout",
     "output_type": "stream",
     "text": [
      " 0.49911774527583186"
     ]
    }
   ],
   "source": [
    "rate = 0.01\n",
    "mse = float(\"inf\")\n",
    "for i in range(1000000):\n",
    "    nn.gradient_descent(x, y, rate=rate)\n",
    "    if i % 100 == 0:\n",
    "        mse = MSE(nn.apply(x),y)\n",
    "        print('\\r', mse, end='')\n",
    "        if mse <= 100.0:\n",
    "            rate = 0.001\n",
    "        if mse <= 0.5:\n",
    "            break"
   ]
  },
  {
   "cell_type": "code",
   "execution_count": 173,
   "metadata": {},
   "outputs": [
    {
     "data": {
      "image/png": "[encoded data removed]",
      "text/plain": [
       "<Figure size 432x288 with 1 Axes>"
      ]
     },
     "metadata": {
      "needs_background": "light"
     },
     "output_type": "display_data"
    }
   ],
   "source": [
    "plt.scatter(\n",
    "    x,\n",
    "    nn.apply(x)\n",
    ")\n",
    "\n",
    "plt.scatter(\n",
    "    x,\n",
    "    y\n",
    ")\n",
    "plt.title(\"squares-simple, train\")\n",
    "plt.legend([\"yhat\", \"y\"])\n",
    "plt.show()"
   ]
  },
  {
   "cell_type": "code",
   "execution_count": 172,
   "metadata": {},
   "outputs": [
    {
     "name": "stdout",
     "output_type": "stream",
     "text": [
      "MSE (test): 3.6543\n"
     ]
    },
    {
     "data": {
      "image/png": "[encoded data removed]",
      "text/plain": [
       "<Figure size 432x288 with 1 Axes>"
      ]
     },
     "metadata": {
      "needs_background": "light"
     },
     "output_type": "display_data"
    }
   ],
   "source": [
    "print(f\"MSE (test): {MSE(nn.apply(x_test), y_test):.5}\")\n",
    "plt.scatter(\n",
    "    x_test,\n",
    "    nn.apply(x_test)\n",
    ")\n",
    "\n",
    "plt.scatter(\n",
    "    x_test,\n",
    "    y_test\n",
    ")\n",
    "plt.title(\"squares-simple, test\")\n",
    "plt.legend([\"yhat\", \"y\"])\n",
    "plt.show()"
   ]
  },
  {
   "cell_type": "code",
   "execution_count": null,
   "metadata": {},
   "outputs": [],
   "source": [
    "with open(\"nn_sq_v2.pickle\", \"wb\") as f:\n",
    "    pickle.dump(nn, f)\n",
    "    \n",
    "with open(\"nn_sq_v2.txt\", \"w\") as f:\n",
    "    f.write(str(nn))"
   ]
  },
  {
   "cell_type": "markdown",
   "metadata": {},
   "source": [
    "# Steps small\n",
    "## Dane i architektura"
   ]
  },
  {
   "cell_type": "code",
   "execution_count": 427,
   "metadata": {},
   "outputs": [],
   "source": [
    "df2 = pd.read_csv(\"LAB1_DANE/regression/steps-small-training.csv\")\n",
    "df2_test = pd.read_csv(\"LAB1_DANE/regression/steps-small-test.csv\")"
   ]
  },
  {
   "cell_type": "code",
   "execution_count": 428,
   "metadata": {},
   "outputs": [],
   "source": [
    "x2 = np.array(df2.iloc[:,1]).reshape((50, 1))\n",
    "y2 = np.array(df2.iloc[:,2]).reshape((50, 1))\n",
    "\n",
    "step_sc, step_rsc = make_scaler(y2)\n",
    "y2_sc = step_sc(y2)\n",
    "\n",
    "x2_test = np.array(df2_test.iloc[:,1]).reshape((50, 1))\n",
    "y2_test = np.array(df2_test.iloc[:,2]).reshape((50, 1))"
   ]
  },
  {
   "cell_type": "code",
   "execution_count": 549,
   "metadata": {},
   "outputs": [],
   "source": [
    "nnss = NN(input_shape=(0, 1))\n",
    "hl1ss = nnss.add_new_random_layer(8)\n",
    "hl1ss.weights += .5\n",
    "hl1ss.bias *= 0\n",
    "olss = nnss.add_new_random_layer(1, activation=lin_act)\n",
    "olss.weights += .5\n",
    "olss.bias *= 0"
   ]
  },
  {
   "cell_type": "markdown",
   "metadata": {},
   "source": [
    "## Problem 1: Regresja liniowa\n",
    "Algorytm nie jest w stanie się nauczyć schodków i zatrzymuje się na poziomie wykonania regresji liniowej przez punkty.\n",
    "\n",
    "### Demonstracja"
   ]
  },
  {
   "cell_type": "code",
   "execution_count": 590,
   "metadata": {},
   "outputs": [],
   "source": [
    "p1nn = NN(input_shape=(0, 1))\n",
    "p1hl = p1nn.add_new_random_layer(16)\n",
    "p1ol = p1nn.add_new_random_layer(1, activation=lin_act)"
   ]
  },
  {
   "cell_type": "code",
   "execution_count": 591,
   "metadata": {},
   "outputs": [],
   "source": [
    "for _ in range(1000):\n",
    "    p1nn.gradient_descent(x2, y2_sc, rate=0.1)"
   ]
  },
  {
   "cell_type": "code",
   "execution_count": 592,
   "metadata": {},
   "outputs": [
    {
     "name": "stdout",
     "output_type": "stream",
     "text": [
      "383.79874297537054\n"
     ]
    },
    {
     "data": {
      "image/png": "[encoded data removed]",
      "text/plain": [
       "<Figure size 432x288 with 1 Axes>"
      ]
     },
     "metadata": {
      "needs_background": "light"
     },
     "output_type": "display_data"
    }
   ],
   "source": [
    "print(MSE(step_rsc(p1nn.apply(x2)),y2))\n",
    "plt.scatter(\n",
    "    x2,\n",
    "    step_rsc(p1nn.apply(x2))\n",
    ")\n",
    "\n",
    "plt.scatter(\n",
    "    x2,\n",
    "    y2\n",
    ")\n",
    "plt.title(\"steps-small, train\")\n",
    "plt.legend([\"yhat\", \"y\"])\n",
    "plt.show()"
   ]
  },
  {
   "cell_type": "markdown",
   "metadata": {},
   "source": [
    "### Diagnoza\n",
    "Jest to najprawdopodobniej spowodowane dziwnymi gradientami w przypadku tej funkcji skokowej. Z jej powodu algorytm \"wkopuje\" się w minimum lokalne i nie może z niego wyjść. \n",
    "\n",
    "### Rozwiązanie\n",
    "Problem udało się rozwiązać za pomocą zmiany sposobu uczenia. Zamiast korzystać z pełnego gradientu, to korzystam z *stochastic descent*, który liczy dla każdej wartości osobno gradienty (odpowiednik *batch* dla 1 obserwacji). Taki algorytm jest bardziej chaotyczny, ale jest w stanie się wybić z minimum lokalnego i znaleźć bardziej optymalne rozwiązania."
   ]
  },
  {
   "cell_type": "markdown",
   "metadata": {},
   "source": [
    "## Problem 2: Zawinięty ogon\n",
    "Dane testowe wychodzą poza zakres treningowych. To jest problemem, ponieważ dla małych MSE dla zbioru treningowego okazuje się, że są bardzo słabe wyniki dla testowego. Tworzy się dla wystających danych \"ogon\".\n",
    "\n",
    "### Demonstracja"
   ]
  },
  {
   "cell_type": "code",
   "execution_count": 608,
   "metadata": {},
   "outputs": [],
   "source": [
    "p2nn = NN(input_shape=(0, 1))\n",
    "p2hl = p2nn.add_new_random_layer(32)\n",
    "p2ol = p2nn.add_new_random_layer(1, activation=lin_act)"
   ]
  },
  {
   "cell_type": "code",
   "execution_count": 609,
   "metadata": {},
   "outputs": [
    {
     "name": "stdout",
     "output_type": "stream",
     "text": [
      " 248.27922178071992"
     ]
    }
   ],
   "source": [
    "for i in range(10000000):\n",
    "    p2nn.stochastic_descent(x2, y2_sc, rate=0.25)\n",
    "    if i % 5000 == 0:\n",
    "        mse = MSE(step_rsc(p2nn.apply(x2)),y2)\n",
    "        print('\\r', mse, end='')\n",
    "        if mse <= 250:\n",
    "            break"
   ]
  },
  {
   "cell_type": "code",
   "execution_count": 610,
   "metadata": {},
   "outputs": [
    {
     "name": "stdout",
     "output_type": "stream",
     "text": [
      "248.27922178071992\n"
     ]
    },
    {
     "data": {
      "image/png": "[encoded data removed]",
      "text/plain": [
       "<Figure size 432x288 with 1 Axes>"
      ]
     },
     "metadata": {
      "needs_background": "light"
     },
     "output_type": "display_data"
    }
   ],
   "source": [
    "print(MSE(step_rsc(p2nn.apply(x2)),y2))\n",
    "plt.scatter(\n",
    "    x2,\n",
    "    step_rsc(p2nn.apply(x2))\n",
    ")\n",
    "\n",
    "plt.scatter(\n",
    "    x2,\n",
    "    y2\n",
    ")\n",
    "plt.title(\"steps-small, train\")\n",
    "plt.legend([\"yhat\", \"y\"])\n",
    "plt.show()"
   ]
  },
  {
   "cell_type": "code",
   "execution_count": 611,
   "metadata": {},
   "outputs": [
    {
     "name": "stdout",
     "output_type": "stream",
     "text": [
      "582.6331997101529\n"
     ]
    },
    {
     "data": {
      "image/png": "[encoded data removed]",
      "text/plain": [
       "<Figure size 432x288 with 1 Axes>"
      ]
     },
     "metadata": {
      "needs_background": "light"
     },
     "output_type": "display_data"
    }
   ],
   "source": [
    "print(MSE(step_rsc(p2nn.apply(x2_test)),y2_test))\n",
    "plt.scatter(\n",
    "    x2_test,\n",
    "    step_rsc(p2nn.apply(x2_test))\n",
    ")\n",
    "\n",
    "plt.scatter(\n",
    "    x2_test,\n",
    "    y2_test\n",
    ")\n",
    "plt.title(\"steps-small, test\")\n",
    "plt.legend([\"yhat\", \"y\"])\n",
    "plt.show()"
   ]
  },
  {
   "cell_type": "markdown",
   "metadata": {},
   "source": [
    "*Punkty w (-1.5, -150.0)*"
   ]
  },
  {
   "cell_type": "markdown",
   "metadata": {},
   "source": [
    "### Diagnoza\n",
    "Takie zachowanie jest spowodowane \"wypychaniem\" skoków poza zakres danych treningowych. To powoduje, że niektóre neurony nie mają wpływu na predykcję, ale nie są potrzebne. Te neurony często mają dziwne wagi, które nie są zmieniane, ponieważ mają bardzo mały wpływ na decyzję całej sieci. Te neurony jednak powodują duże problemy na zbiorze testowym, gdzie już mają wpływ.\n",
    "\n",
    "### Rozwiązanie\n",
    "Zerując `bias` dla każdej z warstw, przesuwam miejsca skoków w okolice x = 0.0. Dzięki temu jak będzie się zmieniać ich pozycja podczas uczenia, to jest mniejsze prawdopodobieństwo, że zostaną wypchnięte za granicę danych treningowych. Dodatkowo zredukowałem liczbę neuronów."
   ]
  },
  {
   "cell_type": "code",
   "execution_count": null,
   "metadata": {},
   "outputs": [],
   "source": [
    "rate = 0.25\n",
    "for i in range(100000000):  \n",
    "    nnss.stochastic_descent(x2, y2_sc, rate=rate) # odpowiednik batch z 1 próbką, ale trochę szybszy\n",
    "    if i % 5000 == 0:\n",
    "        mse = MSE(step_rsc(nnss.apply(x2)),y2)\n",
    "        print('\\r', mse, end='')\n",
    "        if mse <= 100:\n",
    "            rate = 0.1\n",
    "        if mse <= 25:\n",
    "            rate = 0.05\n",
    "        if mse <= 10:\n",
    "            rate = 0.01\n",
    "        if mse <= 2.0:\n",
    "            break\n",
    "        mses.append(mse)\n"
   ]
  },
  {
   "cell_type": "code",
   "execution_count": 632,
   "metadata": {},
   "outputs": [
    {
     "name": "stdout",
     "output_type": "stream",
     "text": [
      "9.589890479347432\n"
     ]
    },
    {
     "data": {
      "image/png": "[encoded data removed]",
      "text/plain": [
       "<Figure size 432x288 with 1 Axes>"
      ]
     },
     "metadata": {
      "needs_background": "light"
     },
     "output_type": "display_data"
    }
   ],
   "source": [
    "print(MSE(step_rsc(nnss.apply(x2)),y2))\n",
    "plt.scatter(\n",
    "    x2,\n",
    "    step_rsc(nnss.apply(x2))\n",
    ")\n",
    "\n",
    "plt.scatter(\n",
    "    x2,\n",
    "    y2\n",
    ")\n",
    "plt.title(\"steps-small, train\")\n",
    "plt.legend([\"yhat\", \"y\"])\n",
    "plt.show()"
   ]
  },
  {
   "cell_type": "code",
   "execution_count": 633,
   "metadata": {},
   "outputs": [
    {
     "name": "stdout",
     "output_type": "stream",
     "text": [
      "111.13679040206812\n"
     ]
    },
    {
     "data": {
      "image/png": "[encoded data removed]",
      "text/plain": [
       "<Figure size 432x288 with 1 Axes>"
      ]
     },
     "metadata": {
      "needs_background": "light"
     },
     "output_type": "display_data"
    }
   ],
   "source": [
    "print(MSE(step_rsc(nnss.apply(x2_test)),y2_test))\n",
    "plt.scatter(\n",
    "    x2_test,\n",
    "    step_rsc(nnss.apply(x2_test))\n",
    ")\n",
    "\n",
    "plt.scatter(\n",
    "    x2_test,\n",
    "    y2_test\n",
    ")\n",
    "plt.title(\"steps-small, test\")\n",
    "plt.legend([\"yhat\", \"y\"])\n",
    "plt.show()"
   ]
  },
  {
   "cell_type": "markdown",
   "metadata": {},
   "source": [
    "Nie jestem w stanie niżej zejść, sieć się uczyła łącznie 15 godzin. Próbowałem douczać na pełnym gradiencie, na batchach, nic nie działa. Dla własnego zdrowia psychicznego poddaję się."
   ]
  },
  {
   "cell_type": "code",
   "execution_count": 691,
   "metadata": {},
   "outputs": [
    {
     "data": {
      "text/plain": [
       "(371775000, 74355)"
      ]
     },
     "execution_count": 691,
     "metadata": {},
     "output_type": "execute_result"
    }
   ],
   "source": [
    "len(mses) * 5000, len(mses)"
   ]
  },
  {
   "cell_type": "markdown",
   "metadata": {},
   "source": [
    "371 milionów pokazanych wzorców..."
   ]
  },
  {
   "cell_type": "code",
   "execution_count": 692,
   "metadata": {},
   "outputs": [
    {
     "data": {
      "image/png": "[encoded data removed]",
      "text/plain": [
       "<Figure size 432x288 with 1 Axes>"
      ]
     },
     "metadata": {
      "needs_background": "light"
     },
     "output_type": "display_data"
    }
   ],
   "source": [
    "plt.plot(mses[1000:])\n",
    "plt.title(\"profil uczenia się stepsów\")\n",
    "plt.ylabel(\"mse\")\n",
    "plt.xlabel(\"epoka (?)\")\n",
    "plt.show()"
   ]
  },
  {
   "cell_type": "code",
   "execution_count": 634,
   "metadata": {},
   "outputs": [],
   "source": [
    "with open(\"nn_step_v3.pickle\", \"wb\") as f:\n",
    "    pickle.dump(nnss, f)\n",
    "    \n",
    "with open(\"nn_step_v3.txt\", \"w\") as f:\n",
    "    f.write(str(nnss))"
   ]
  },
  {
   "cell_type": "markdown",
   "metadata": {},
   "source": [
    "# Multimodal\n",
    "Bardzo długo się uczył, ale nie sprawiał dużych problemów. Oczywiście trzeba tutaj zastosować batchowanie, bo jest dużo danych. Batchowałem po 10 do osiągnięcia mniej więcej kształtu funkcji, później zwiększyłem do 50, żeby lepiej dopasować się do funkcji."
   ]
  },
  {
   "cell_type": "code",
   "execution_count": 374,
   "metadata": {},
   "outputs": [],
   "source": [
    "dfmm = pd.read_csv(\"LAB1_DANE/regression/multimodal-large-training.csv\")\n",
    "xmm = np.array(dfmm.iloc[:,0]).reshape((10000, 1))\n",
    "ymm = np.array(dfmm.iloc[:,1]).reshape((10000, 1))\n",
    "mm_sc, mm_rsc = make_scaler(ymm)\n",
    "ymm_sc = mm_sc(ymm)\n",
    "\n",
    "dfmm_test = pd.read_csv(\"LAB1_DANE/regression/multimodal-large-test.csv\")\n",
    "xmm_test = np.array(dfmm_test.iloc[:,0]).reshape((1000, 1))\n",
    "ymm_test = np.array(dfmm_test.iloc[:,1]).reshape((1000, 1))"
   ]
  },
  {
   "cell_type": "code",
   "execution_count": 695,
   "metadata": {},
   "outputs": [
    {
     "data": {
      "image/png": "[encoded data removed]",
      "text/plain": [
       "<Figure size 432x288 with 1 Axes>"
      ]
     },
     "metadata": {
      "needs_background": "light"
     },
     "output_type": "display_data"
    }
   ],
   "source": [
    "plt.scatter(\n",
    "    xmm, ymm\n",
    ")\n",
    "plt.title(\"multimodal\")\n",
    "plt.legend([\"y\"])\n",
    "plt.show()"
   ]
  },
  {
   "cell_type": "code",
   "execution_count": 361,
   "metadata": {},
   "outputs": [],
   "source": [
    "nnmm = NN(input_shape=(0,1))\n",
    "hl1mm = nnmm.add_new_random_layer(32)\n",
    "hl2mm = nnmm.add_new_random_layer(32)\n",
    "olmm = nnmm.add_new_random_layer(1, activation=lin_act)"
   ]
  },
  {
   "cell_type": "code",
   "execution_count": 379,
   "metadata": {},
   "outputs": [
    {
     "name": "stdout",
     "output_type": "stream",
     "text": [
      " 29.96333490026052433000\n"
     ]
    }
   ],
   "source": [
    "rate=0.25\n",
    "batch_size = 10\n",
    "for i in range(10000000):\n",
    "    nnmm.batch_descent(xmm, ymm_sc, rate=0.25, batch_size=batch_size)\n",
    "    if i % 1000 == 0:\n",
    "        mse = MSE(mm_rsc(nnmm.apply(xmm)),ymm)\n",
    "        print('\\r', mse, end='')\n",
    "        if mse <= 100:\n",
    "            batch_size = 50\n",
    "        elif mse <= 1000:\n",
    "            rate = 0.01\n",
    "        if mse <= 30.0:\n",
    "            break\n",
    "print(i)"
   ]
  },
  {
   "cell_type": "code",
   "execution_count": 693,
   "metadata": {},
   "outputs": [
    {
     "data": {
      "image/png": "[encoded data removed]",
      "text/plain": [
       "<Figure size 432x288 with 1 Axes>"
      ]
     },
     "metadata": {
      "needs_background": "light"
     },
     "output_type": "display_data"
    }
   ],
   "source": [
    "plt.scatter(\n",
    "    xmm, mm_rsc(nnmm.apply(xmm))\n",
    ")\n",
    "plt.scatter(\n",
    "    xmm, ymm\n",
    ")\n",
    "plt.title(\"multimodal, train\")\n",
    "plt.legend([\"yhat\", \"y\"])\n",
    "plt.show()"
   ]
  },
  {
   "cell_type": "code",
   "execution_count": 694,
   "metadata": {},
   "outputs": [
    {
     "name": "stdout",
     "output_type": "stream",
     "text": [
      "26.15924334086995\n"
     ]
    },
    {
     "data": {
      "image/png": "[encoded data removed]",
      "text/plain": [
       "<Figure size 432x288 with 1 Axes>"
      ]
     },
     "metadata": {
      "needs_background": "light"
     },
     "output_type": "display_data"
    }
   ],
   "source": [
    "print(MSE(mm_rsc(nnmm.apply(xmm_test)),ymm_test))\n",
    "\n",
    "plt.scatter(\n",
    "    xmm_test, mm_rsc(nnmm.apply(xmm_test))\n",
    ")\n",
    "plt.scatter(\n",
    "    xmm_test, ymm_test\n",
    ")\n",
    "plt.title(\"multimodal, test\")\n",
    "plt.legend([\"yhat\", \"y\"])\n",
    "plt.show()"
   ]
  },
  {
   "cell_type": "code",
   "execution_count": 383,
   "metadata": {},
   "outputs": [],
   "source": [
    "with open(\"nn_mm_v2.pickle\", \"wb\") as f:\n",
    "    pickle.dump(nnmm, f)\n",
    "    \n",
    "with open(\"nn_mm_v2.txt\", \"w\") as f:\n",
    "    f.write(str(nnmm))"
   ]
  },
  {
   "cell_type": "markdown",
   "metadata": {},
   "source": [
    "# Szybkości zbieżności\n",
    "Przetestuję na zbiorze squares, on najlepiej chyba współpracował. Przetestuję pełny gradient descent (100 wzorców), batchowy (po 10 wzorców) i stochastyczny (1 wzorzec). Każda sieć będzie trenowana przez 10s."
   ]
  },
  {
   "cell_type": "code",
   "execution_count": 674,
   "metadata": {},
   "outputs": [],
   "source": [
    "nngd = NN(input_shape=(0,1))\n",
    "nngd.add_new_random_layer(16)\n",
    "nngd.add_new_random_layer(16)\n",
    "nngd.add_new_random_layer(1, activation=lin_act)\n",
    "rmses_gd = []\n",
    "\n",
    "nnbd = NN(input_shape=(0,1))\n",
    "nnbd.add_new_random_layer(16)\n",
    "nnbd.add_new_random_layer(16)\n",
    "nnbd.add_new_random_layer(1, activation=lin_act)\n",
    "rmses_bd = []\n",
    "\n",
    "nnsd = NN(input_shape=(0,1))\n",
    "nnsd.add_new_random_layer(16)\n",
    "nnsd.add_new_random_layer(16)\n",
    "nnsd.add_new_random_layer(1, activation=lin_act)\n",
    "rmses_sd = []"
   ]
  },
  {
   "cell_type": "code",
   "execution_count": 675,
   "metadata": {},
   "outputs": [
    {
     "name": "stdout",
     "output_type": "stream",
     "text": [
      " 6916.7218631227665\n",
      " 54.575821684093234\n",
      " 2.9725198563050834"
     ]
    }
   ],
   "source": [
    "import time\n",
    "num_iter = 100000\n",
    "batch_modifier = 1\n",
    "\n",
    "t = time.time_ns()\n",
    "for i in range(num_iter):\n",
    "    nngd.gradient_descent(x, y_s, rate=.5)\n",
    "    if i % 10 == 0:\n",
    "        mse = MSE(rscaler_ssq(nngd.apply(x)),y)\n",
    "        print('\\r', mse, end='')\n",
    "        rmses_gd.append((time.time_ns() - t ,mse))\n",
    "        if (time.time_ns() - t) * 1e-9 > 10:\n",
    "            break\n",
    "print(\"\")\n",
    "\n",
    "t = time.time_ns()\n",
    "for i in range(num_iter):\n",
    "    nnbd.batch_descent(x, y_s, rate=.5, batch_size=10)\n",
    "    if i % 100 == 0:\n",
    "        mse = MSE(rscaler_ssq(nnbd.apply(x)),y)\n",
    "        print('\\r', mse, end='')\n",
    "        rmses_bd.append((time.time_ns() - t ,mse))\n",
    "        if (time.time_ns() - t) * 1e-9 > 10:\n",
    "            break\n",
    "print(\"\")\n",
    "\n",
    "t = time.time_ns()\n",
    "for i in range(num_iter):\n",
    "    nnsd.stochastic_descent(x, y_s, rate=.5)\n",
    "    if i % 100 == 0:\n",
    "        mse = MSE(rscaler_ssq(nnsd.apply(x)),y)\n",
    "        print('\\r', mse, end='')\n",
    "        rmses_sd.append((time.time_ns() - t ,mse))\n",
    "        if (time.time_ns() - t) * 1e-9 > 10:\n",
    "            break"
   ]
  },
  {
   "cell_type": "code",
   "execution_count": 681,
   "metadata": {},
   "outputs": [
    {
     "data": {
      "image/png": "[encoded data removed]",
      "text/plain": [
       "<Figure size 432x288 with 1 Axes>"
      ]
     },
     "metadata": {
      "needs_background": "light"
     },
     "output_type": "display_data"
    }
   ],
   "source": [
    "def plot_series(series):\n",
    "    plt.plot(\n",
    "        [tt*1e-9 for tt, vv in series if vv < 10_000],\n",
    "        [vv for _, vv in series if vv < 10_000],\n",
    "    )\n",
    "plot_series(rmses_gd)\n",
    "plot_series(rmses_bd)\n",
    "plot_series(rmses_sd)\n",
    "plt.xlim(-0.5, 10)\n",
    "plt.ylim(0, 10_000)\n",
    "plt.legend([\"Gradient (100)\", \"Batch (10)\", \"Stochastic (1)\"])\n",
    "plt.ylabel(\"MSE\")\n",
    "plt.xlabel(\"Czas [s]\")\n",
    "plt.title(\"Porównanie szybkości i stabilności zbieżności\")\n",
    "plt.show()"
   ]
  },
  {
   "cell_type": "markdown",
   "metadata": {},
   "source": [
    "Wyniki są dokładnie takie, jakie można się spodziewać. Gradient descent jest najwolniejszy, batchowanie jest znacznie szybsze i im mniejszy batch tym szybciej idzie. Ale też widać braki stabilności spadku w przypadku metod pokazywania części wzorców."
   ]
  },
  {
   "cell_type": "markdown",
   "metadata": {},
   "source": [
    "*Wiem, że nie ma w raporcie wizualizacji wag, ale nie czułem w żadnej chwili pracy nad tym punktem kontrolnym, że mi się do czegokolwiek przyda. Dlatego ją pominąłem. Nie napotkałem się z problemem eksplozji wag, a co znalazłem to na podstawie wartości liczbowych. Z kolei ciężko zrobić dobrą wizualizację jak są tysiące parametrów.*"
   ]
  },
  {
   "cell_type": "code",
   "execution_count": null,
   "metadata": {},
   "outputs": [],
   "source": []
  }
 ],
 "metadata": {
  "kernelspec": {
   "display_name": "Python 3",
   "language": "python",
   "name": "python3"
  },
  "language_info": {
   "codemirror_mode": {
    "name": "ipython",
    "version": 3
   },
   "file_extension": ".py",
   "mimetype": "text/x-python",
   "name": "python",
   "nbconvert_exporter": "python",
   "pygments_lexer": "ipython3",
   "version": "3.9.7"
  }
 },
 "nbformat": 4,
 "nbformat_minor": 4
}
