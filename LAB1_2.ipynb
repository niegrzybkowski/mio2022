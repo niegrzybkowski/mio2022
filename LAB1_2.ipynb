{
 "cells": [
  {
   "cell_type": "code",
   "execution_count": 83,
   "metadata": {},
   "outputs": [],
   "source": [
    "import numpy as np\n",
    "import pandas as pd\n",
    "import matplotlib.pyplot as plt\n",
    "\n",
    "def MSE(x, y):\n",
    "    return np.sum((x - y)**2) / len(x)\n",
    "\n",
    "def lin_act(x):\n",
    "    return x\n",
    "\n",
    "def sigmoid(x):\n",
    "    return 1 / (1 + np.exp(-x))\n",
    "\n",
    "def grad_sigmoid(x):\n",
    "    return sigmoid(x) * (1 - sigmoid(x))\n",
    "\n",
    "class Layer:   \n",
    "    def __init__(self, neurons, input_shape, weights, bias, activation):\n",
    "        self.neurons = neurons\n",
    "        self.input_shape = input_shape\n",
    "        \n",
    "        assert weights.shape == (input_shape[1], neurons)\n",
    "        self.weights = weights\n",
    "        \n",
    "        assert bias.shape == (1, neurons)\n",
    "        self.bias = bias\n",
    "        \n",
    "        self.activation = activation\n",
    "        self.last_a = None\n",
    "    \n",
    "    \n",
    "    def make_factory(neurons, input_shape, activation, factory):\n",
    "        return Layer(\n",
    "            neurons = neurons,\n",
    "            input_shape = input_shape,\n",
    "            weights = factory((input_shape[1], neurons)),\n",
    "            bias = factory((1, neurons)),\n",
    "            activation = activation\n",
    "        )\n",
    "    \n",
    "    def make_zero(neurons, input_shape, activation):\n",
    "        return Layer.make_factory(neurons, input_shape, activation, np.zeros)\n",
    "    \n",
    "    def make_random(neurons, input_shape, activation):\n",
    "        random_balanced = lambda shape: np.random.random(shape) -0.5\n",
    "        return Layer.make_factory(neurons, input_shape, activation, random_balanced)\n",
    "    \n",
    "    def apply(self, inputs):\n",
    "        intensities = inputs @ self.weights\n",
    "        self.last_a = intensities + self.bias\n",
    "        return self.activation(intensities + self.bias)\n",
    "    \n",
    "    def apply_no_intensities(self, inputs):\n",
    "        intensities = inputs @ self.weights\n",
    "        return self.activation(intensities + self.bias)\n",
    "    \n",
    "    def __str__(self):\n",
    "        return f\"LAYER(\\nW:\\n {repr(self.weights)} \\nb:\\n{repr(self.bias)})\\n\"\n",
    "    \n",
    "    def __repr__(self):\n",
    "        return str(self)\n",
    "\n",
    "\n",
    "class NN:\n",
    "    def __init__(self, *layers, input_shape):\n",
    "        self.input_shape = input_shape\n",
    "        self.layers = [*layers]\n",
    "        self.errors = None\n",
    "        self.last_inputs = None\n",
    "        \n",
    "    def get_last_shape(self):\n",
    "        if self.layers:\n",
    "            return self.layers[-1].weights.shape\n",
    "        else:\n",
    "            return self.input_shape\n",
    "    \n",
    "    def add_new_zero_layer(self, neurons, activation=sigmoid):\n",
    "        layer = Layer.make_zero(\n",
    "            neurons,\n",
    "            self.get_last_shape(),\n",
    "            activation\n",
    "        )\n",
    "        self.layers.append(layer)\n",
    "        return layer\n",
    "    \n",
    "    def add_new_random_layer(self, neurons, activation=sigmoid):\n",
    "        layer = Layer.make_random(\n",
    "            neurons,\n",
    "            self.get_last_shape(),\n",
    "            activation\n",
    "        )\n",
    "        self.layers.append(layer)\n",
    "        return layer\n",
    "        \n",
    "    def apply(self, inputs):\n",
    "        self.last_inputs = inputs\n",
    "        x = inputs\n",
    "        for layer in self.layers:\n",
    "            x = layer.apply(x)\n",
    "        return x\n",
    "    \n",
    "    def backpropagate(self, yhat, y):\n",
    "        errors = [None] * len(self.layers)\n",
    "        errors[-1] = (yhat - y)\n",
    "        for i in range(len(errors)-2, -1, -1):\n",
    "            uhm = errors[i+1] @ np.transpose(self.layers[i+1].weights)\n",
    "            errors[i] = grad_sigmoid(self.layers[i].last_a) * uhm\n",
    "        grad = [None] * len(self.layers)\n",
    "        grad_b = [None] * len(self.layers)\n",
    "        \n",
    "        for k in range(len(errors)):\n",
    "            if k == 0:\n",
    "                f_a = self.layers[0].activation(self.last_inputs)\n",
    "            else:\n",
    "                cur_layer = self.layers[k-1]\n",
    "                f_a = cur_layer.activation(cur_layer.last_a)\n",
    "            \n",
    "            grad[k] = np.transpose(f_a) @ errors[k]\n",
    "            grad_b[k] = errors[k] \n",
    "        return grad, grad_b\n",
    "    \n",
    "    def gradient_descent(self, x, y, rate=1e-3):\n",
    "        yhat = self.apply(x[0])\n",
    "        sumg, sumgb = self.backpropagate(yhat, y[0])\n",
    "        for i in range(len(sumg)):\n",
    "            sumg[i] *= - rate\n",
    "            sumgb[i] *= - rate\n",
    "            \n",
    "        for i, x_i in enumerate(x[1:]):\n",
    "            yhat = self.apply(x_i)\n",
    "            g, gb = self.backpropagate(yhat, y[i])\n",
    "            for i in range(len(self.layers)):\n",
    "                sumg[i] += -rate*g[i]\n",
    "                sumgb[i] += -rate*gb[i]\n",
    "        \n",
    "        for i in range(len(self.layers)):\n",
    "            self.layers[i].weights += sumg[i]\n",
    "            self.layers[i].bias += sumgb[i]\n",
    "            \n",
    "    def stochastic_descent(self, x, y, rate=1e-3):\n",
    "        index = np.random.randint(x.shape[0])\n",
    "        x_i = x[index]\n",
    "        y_i = y[index]\n",
    "        yhat_i = self.apply(x_i)\n",
    "        g, gb = self.backpropagate(yhat_i, y_i)\n",
    "        for i in range(len(self.layers)):\n",
    "            self.layers[i].weights -= rate*g[i]\n",
    "            self.layers[i].bias -= rate*gb[i]\n",
    "    \n",
    "class Trainer:\n",
    "    def __init__(self, nn):\n",
    "        self.nn = nn\n",
    "        \n",
    "    def backpropagate(self, x, y):\n",
    "        yhat = nn.apply(x)\n",
    "        "
   ]
  },
  {
   "cell_type": "code",
   "execution_count": 84,
   "metadata": {},
   "outputs": [
    {
     "data": {
      "text/plain": [
       "LAYER(\n",
       "W:\n",
       " array([[ 0.06530718],\n",
       "       [-0.4778819 ],\n",
       "       [ 0.0984033 ],\n",
       "       [ 0.31514399],\n",
       "       [-0.21670936],\n",
       "       [-0.34101495],\n",
       "       [ 0.48876277],\n",
       "       [ 0.19316011],\n",
       "       [ 0.25705946],\n",
       "       [ 0.37668375]]) \n",
       "b:\n",
       "array([[-0.08732965]]))"
      ]
     },
     "execution_count": 84,
     "metadata": {},
     "output_type": "execute_result"
    }
   ],
   "source": [
    "nn = NN(input_shape=(0,1))\n",
    "nn.add_new_random_layer(10)\n",
    "nn.add_new_random_layer(10)\n",
    "nn.add_new_random_layer(1, activation=lin_act)"
   ]
  },
  {
   "cell_type": "code",
   "execution_count": 85,
   "metadata": {},
   "outputs": [],
   "source": [
    "df = pd.read_csv(\"LAB1_DANE/regression/square-simple-training.csv\")\n",
    "x = np.array(df.iloc[:,1]).reshape((100, 1))\n",
    "min_x = np.min(x)\n",
    "max_x = np.max(x)\n",
    "# x = (x - min_x) / (max_x - min_x)\n",
    "y = np.array(df.iloc[:,2]).reshape((100, 1))\n",
    "min_y = np.min(y)\n",
    "max_y = np.max(y)\n",
    "#y = (y - min_y) / (max_y - min_y)\n",
    "\n",
    "\n",
    "\n",
    "df_test = pd.read_csv(\"LAB1_DANE/regression/square-simple-test.csv\")\n",
    "x_test = np.array(df_test.iloc[:,1]).reshape((100, 1))\n",
    "# x_test = (x_test - min_x) / (max_x - min_x)\n",
    "y_test = np.array(df_test.iloc[:,2]).reshape((100, 1))\n",
    "#y_test = (y_test - min_y) / (max_y - min_y)"
   ]
  },
  {
   "cell_type": "code",
   "execution_count": 86,
   "metadata": {},
   "outputs": [
    {
     "name": "stdout",
     "output_type": "stream",
     "text": [
      " 2254.5707343890936"
     ]
    },
    {
     "ename": "KeyboardInterrupt",
     "evalue": "",
     "output_type": "error",
     "traceback": [
      "\u001b[0;31m---------------------------------------------------------------------------\u001b[0m",
      "\u001b[0;31mKeyboardInterrupt\u001b[0m                         Traceback (most recent call last)",
      "Input \u001b[0;32mIn [86]\u001b[0m, in \u001b[0;36m<cell line: 1>\u001b[0;34m()\u001b[0m\n\u001b[1;32m      1\u001b[0m \u001b[38;5;28;01mfor\u001b[39;00m i \u001b[38;5;129;01min\u001b[39;00m \u001b[38;5;28mrange\u001b[39m(\u001b[38;5;241m500000\u001b[39m):\n\u001b[0;32m----> 2\u001b[0m     \u001b[43mnn\u001b[49m\u001b[38;5;241;43m.\u001b[39;49m\u001b[43mstochastic_descent\u001b[49m\u001b[43m(\u001b[49m\u001b[43mx\u001b[49m\u001b[43m,\u001b[49m\u001b[43m \u001b[49m\u001b[43my\u001b[49m\u001b[43m,\u001b[49m\u001b[43m \u001b[49m\u001b[43mrate\u001b[49m\u001b[38;5;241;43m=\u001b[39;49m\u001b[38;5;241;43m0.0001\u001b[39;49m\u001b[43m)\u001b[49m\n\u001b[1;32m      3\u001b[0m     \u001b[38;5;28;01mif\u001b[39;00m i \u001b[38;5;241m%\u001b[39m \u001b[38;5;241m1000\u001b[39m \u001b[38;5;241m==\u001b[39m \u001b[38;5;241m0\u001b[39m:\n\u001b[1;32m      4\u001b[0m         \u001b[38;5;28mprint\u001b[39m(\u001b[38;5;124m'\u001b[39m\u001b[38;5;130;01m\\r\u001b[39;00m\u001b[38;5;124m'\u001b[39m, MSE(nn\u001b[38;5;241m.\u001b[39mapply(x),y), end\u001b[38;5;241m=\u001b[39m\u001b[38;5;124m'\u001b[39m\u001b[38;5;124m'\u001b[39m)\n",
      "Input \u001b[0;32mIn [83]\u001b[0m, in \u001b[0;36mNN.stochastic_descent\u001b[0;34m(self, x, y, rate)\u001b[0m\n\u001b[1;32m    140\u001b[0m \u001b[38;5;28;01mdef\u001b[39;00m \u001b[38;5;21mstochastic_descent\u001b[39m(\u001b[38;5;28mself\u001b[39m, x, y, rate\u001b[38;5;241m=\u001b[39m\u001b[38;5;241m1e-3\u001b[39m):\n\u001b[0;32m--> 141\u001b[0m     index \u001b[38;5;241m=\u001b[39m np\u001b[38;5;241m.\u001b[39mrandom\u001b[38;5;241m.\u001b[39mrandint(\u001b[43mx\u001b[49m\u001b[38;5;241;43m.\u001b[39;49m\u001b[43mshape\u001b[49m[\u001b[38;5;241m0\u001b[39m])\n\u001b[1;32m    142\u001b[0m     x_i \u001b[38;5;241m=\u001b[39m x[index]\n\u001b[1;32m    143\u001b[0m     y_i \u001b[38;5;241m=\u001b[39m y[index]\n",
      "\u001b[0;31mKeyboardInterrupt\u001b[0m: "
     ]
    }
   ],
   "source": [
    "for i in range(500000):\n",
    "    nn.stochastic_descent(x, y, rate=0.0001)\n",
    "    if i % 1000 == 0:\n",
    "        print('\\r', MSE(nn.apply(x),y), end='')"
   ]
  },
  {
   "cell_type": "code",
   "execution_count": null,
   "metadata": {},
   "outputs": [],
   "source": [
    "MSE(nn.apply(x_test), y_test)"
   ]
  },
  {
   "cell_type": "code",
   "execution_count": 87,
   "metadata": {},
   "outputs": [
    {
     "data": {
      "image/png": "[encoded data removed]",
      "text/plain": [
       "<Figure size 432x288 with 1 Axes>"
      ]
     },
     "metadata": {
      "needs_background": "light"
     },
     "output_type": "display_data"
    }
   ],
   "source": [
    "plt.scatter(\n",
    "    x,\n",
    "    nn.apply(x)\n",
    ")\n",
    "\n",
    "plt.scatter(\n",
    "    x,\n",
    "    y\n",
    ")\n",
    "plt.show()"
   ]
  },
  {
   "cell_type": "code",
   "execution_count": 81,
   "metadata": {},
   "outputs": [
    {
     "data": {
      "text/plain": [
       "<matplotlib.collections.PathCollection at 0x7fda3b4d5e50>"
      ]
     },
     "execution_count": 81,
     "metadata": {},
     "output_type": "execute_result"
    },
    {
     "data": {
      "image/png": "[encoded data removed]",
      "text/plain": [
       "<Figure size 432x288 with 1 Axes>"
      ]
     },
     "metadata": {
      "needs_background": "light"
     },
     "output_type": "display_data"
    }
   ],
   "source": [
    "plt.scatter(\n",
    "    x_test,\n",
    "    nn.apply(x_test)\n",
    ")\n",
    "\n",
    "plt.scatter(\n",
    "    x_test,\n",
    "    y_test\n",
    ")"
   ]
  },
  {
   "cell_type": "code",
   "execution_count": 88,
   "metadata": {},
   "outputs": [
    {
     "data": {
      "text/plain": [
       "[LAYER(\n",
       " W:\n",
       "  array([[-2.62163212, -1.68065642, -3.25328545, -2.21222396, -2.97753231,\n",
       "         -3.54540762, -2.25886217,  5.35826548, -2.17349469, -2.00653498]]) \n",
       " b:\n",
       " array([[ 4.00286597,  1.45568843,  5.49784035,  2.78504709,  4.90644818,\n",
       "          6.09204041,  2.8835131 , -4.02258498,  2.84985672,  2.36660184]])),\n",
       " LAYER(\n",
       " W:\n",
       "  array([[  2.16754627,   2.77452217,   4.69641816,   4.04913352,\n",
       "           3.27604763,   5.2222521 ,   2.034855  ,   1.98763826,\n",
       "           2.10754407,   2.46950589],\n",
       "        [  1.65128356,   1.8934012 ,   1.32523194,   0.89781607,\n",
       "           1.54158621,   1.84737325,   0.49835327,   0.89574131,\n",
       "           1.64218509,   0.87097477],\n",
       "        [  1.75500949,   1.86145648,   6.90989111,   4.98267895,\n",
       "           3.99551057,   7.11649164,   2.3299836 ,   2.89797426,\n",
       "           2.44895152,   3.40645763],\n",
       "        [  2.40403593,   2.70319556,   3.5303159 ,   2.26783466,\n",
       "           2.35555299,   3.59825777,   1.67355532,   1.58588274,\n",
       "           1.44335   ,   2.00407722],\n",
       "        [  2.6107302 ,   1.73254841,   6.08729594,   4.49328879,\n",
       "           3.59660272,   6.20700261,   2.8956434 ,   2.89062539,\n",
       "           2.38583097,   2.67310726],\n",
       "        [  2.06159575,   1.67186992,   7.056703  ,   5.72816909,\n",
       "           4.91442541,   7.83396472,   2.98515433,   3.48546147,\n",
       "           2.53945433,   3.59775588],\n",
       "        [  1.8985554 ,   2.77265314,   3.85510376,   3.06826806,\n",
       "           1.95001638,   3.4152599 ,   1.72610305,   1.63485378,\n",
       "           1.72234175,   2.11134164],\n",
       "        [ -9.46234716, -11.87163733,  -9.23161212,  -8.8222144 ,\n",
       "          -7.88854554,  -9.25837185,  -7.00996284,  -6.77991416,\n",
       "          -8.13832521,  -6.51579544],\n",
       "        [  2.06085023,   1.91106183,   3.64971824,   2.63667976,\n",
       "           2.21626624,   3.24477755,   1.88831689,   1.79476663,\n",
       "           2.29597941,   1.19005528],\n",
       "        [  2.24924343,   2.22187245,   2.91240428,   2.33382832,\n",
       "           1.89311278,   3.36961471,   1.03227096,   0.97210148,\n",
       "           1.66979118,   1.12378128]]) \n",
       " b:\n",
       " array([[-5.72510066, -6.78324947, -5.13212611, -5.13159627, -5.11567126,\n",
       "         -5.54205016, -4.69096771, -4.78183124, -4.83977328, -4.85186285]])),\n",
       " LAYER(\n",
       " W:\n",
       "  array([[-24.89075167],\n",
       "        [-25.90101088],\n",
       "        [-28.1176359 ],\n",
       "        [-27.22242777],\n",
       "        [-27.02541555],\n",
       "        [-28.6805054 ],\n",
       "        [-21.2184969 ],\n",
       "        [-24.77679622],\n",
       "        [-25.08701995],\n",
       "        [-25.40030458]]) \n",
       " b:\n",
       " array([[181.47788696]]))]"
      ]
     },
     "execution_count": 88,
     "metadata": {},
     "output_type": "execute_result"
    }
   ],
   "source": [
    "nn.layers"
   ]
  },
  {
   "cell_type": "code",
   "execution_count": null,
   "metadata": {},
   "outputs": [],
   "source": []
  },
  {
   "cell_type": "code",
   "execution_count": null,
   "metadata": {},
   "outputs": [],
   "source": []
  },
  {
   "cell_type": "code",
   "execution_count": null,
   "metadata": {},
   "outputs": [],
   "source": []
  },
  {
   "cell_type": "code",
   "execution_count": null,
   "metadata": {},
   "outputs": [],
   "source": []
  }
 ],
 "metadata": {
  "kernelspec": {
   "display_name": "Python 3 (ipykernel)",
   "language": "python",
   "name": "python3"
  },
  "language_info": {
   "codemirror_mode": {
    "name": "ipython",
    "version": 3
   },
   "file_extension": ".py",
   "mimetype": "text/x-python",
   "name": "python",
   "nbconvert_exporter": "python",
   "pygments_lexer": "ipython3",
   "version": "3.9.7"
  }
 },
 "nbformat": 4,
 "nbformat_minor": 4
}
