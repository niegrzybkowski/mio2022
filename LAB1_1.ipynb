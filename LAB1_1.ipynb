{
 "cells": [
  {
   "cell_type": "code",
   "execution_count": 1,
   "metadata": {},
   "outputs": [],
   "source": [
    "import numpy as np\n",
    "import pandas as pd"
   ]
  },
  {
   "cell_type": "code",
   "execution_count": 60,
   "metadata": {},
   "outputs": [],
   "source": [
    "def lin_act(x):\n",
    "    return x\n",
    "\n",
    "def sigmoid(x):\n",
    "    return np.exp(x) / (np.exp(x)+1)\n",
    "\n",
    "def matrix(arr, shape1, shape2):\n",
    "    return np.array(arr).reshape(shape1, shape2)\n",
    "\n",
    "del Layer\n",
    "class Layer:\n",
    "    def __init__(self, weights, bias, activation=sigmoid):\n",
    "        self.weights = weights\n",
    "        self.bias = bias\n",
    "        self.activation = activation\n",
    "    \n",
    "    def apply(self, inputs):\n",
    "        return self.activation(inputs @ self.weights + self.bias)\n",
    "    \n",
    "    \n",
    "class NN:\n",
    "    def __init__(self, *layers):\n",
    "        self.layers = [*layers]\n",
    "    \n",
    "    def add_layer(self, layer):\n",
    "        self.layers.append(layer)\n",
    "        \n",
    "    def apply(self, inputs):\n",
    "        x = inputs\n",
    "        for layer in self.layers:\n",
    "            x = layer.apply(x)\n",
    "        return x"
   ]
  },
  {
   "cell_type": "markdown",
   "metadata": {},
   "source": [
    "## Simple squares"
   ]
  },
  {
   "cell_type": "code",
   "execution_count": 54,
   "metadata": {},
   "outputs": [],
   "source": [
    "square_simple_training =  pd.read_csv(\"LAB1_DANE/regression/square-simple-training.csv\")\n",
    "x = np.array(square_simple_training.iloc[:, 1]).reshape(100, 1)\n",
    "y = np.array(square_simple_training.iloc[:, 2]).reshape(100, 1)"
   ]
  },
  {
   "cell_type": "code",
   "execution_count": 63,
   "metadata": {},
   "outputs": [
    {
     "data": {
      "text/plain": [
       "array([[14.9264159 ],\n",
       "       [15.28090132],\n",
       "       [ 4.22746267],\n",
       "       [15.94173525],\n",
       "       [15.26111892],\n",
       "       [15.93812203],\n",
       "       [15.91917014],\n",
       "       [15.77013032],\n",
       "       [15.94116858],\n",
       "       [15.74561757],\n",
       "       [14.45502101],\n",
       "       [14.61359541],\n",
       "       [15.06681122],\n",
       "       [15.87809865],\n",
       "       [ 4.27077011],\n",
       "       [15.85842622],\n",
       "       [15.80653602],\n",
       "       [ 9.84745587],\n",
       "       [13.118811  ],\n",
       "       [15.55890902],\n",
       "       [15.80506781],\n",
       "       [15.94372982],\n",
       "       [15.86468702],\n",
       "       [15.66865029],\n",
       "       [15.90617916],\n",
       "       [10.6595048 ],\n",
       "       [13.36747664],\n",
       "       [15.8977938 ],\n",
       "       [15.81987659],\n",
       "       [12.54395178],\n",
       "       [ 4.3901244 ],\n",
       "       [ 8.38556816],\n",
       "       [11.73286272],\n",
       "       [15.45680353],\n",
       "       [10.99341458],\n",
       "       [15.83941634],\n",
       "       [ 3.48493697],\n",
       "       [14.89279215],\n",
       "       [15.55889576],\n",
       "       [ 3.35090547],\n",
       "       [15.69365942],\n",
       "       [ 9.22122555],\n",
       "       [14.74248698],\n",
       "       [15.77617122],\n",
       "       [15.87355547],\n",
       "       [15.66365426],\n",
       "       [12.32936013],\n",
       "       [ 6.07598638],\n",
       "       [ 5.89648003],\n",
       "       [14.04175045],\n",
       "       [15.79766974],\n",
       "       [ 3.3236547 ],\n",
       "       [11.43884321],\n",
       "       [15.93208313],\n",
       "       [15.93014093],\n",
       "       [15.84929353],\n",
       "       [14.45050049],\n",
       "       [15.56055492],\n",
       "       [15.85550644],\n",
       "       [15.74601411],\n",
       "       [15.75456923],\n",
       "       [11.7610881 ],\n",
       "       [11.73952418],\n",
       "       [14.99917373],\n",
       "       [15.93447422],\n",
       "       [15.93928639],\n",
       "       [15.85295421],\n",
       "       [15.84874523],\n",
       "       [15.60895433],\n",
       "       [ 3.36542007],\n",
       "       [15.7329883 ],\n",
       "       [15.90125845],\n",
       "       [15.86004678],\n",
       "       [15.35711454],\n",
       "       [15.60901644],\n",
       "       [15.61242963],\n",
       "       [ 3.34700201],\n",
       "       [14.70872064],\n",
       "       [15.73715084],\n",
       "       [15.89811359],\n",
       "       [14.71944553],\n",
       "       [15.1446916 ],\n",
       "       [15.6805298 ],\n",
       "       [15.70601575],\n",
       "       [15.83962608],\n",
       "       [15.04261076],\n",
       "       [15.92839824],\n",
       "       [15.93927775],\n",
       "       [12.32355789],\n",
       "       [15.84294866],\n",
       "       [15.92398444],\n",
       "       [15.72567341],\n",
       "       [15.76068524],\n",
       "       [15.9331992 ],\n",
       "       [15.90647272],\n",
       "       [15.69084015],\n",
       "       [15.89498914],\n",
       "       [ 7.11888205],\n",
       "       [15.86746676],\n",
       "       [15.75143535]])"
      ]
     },
     "execution_count": 63,
     "metadata": {},
     "output_type": "execute_result"
    }
   ],
   "source": [
    "l1 = Layer(matrix([1,2,3,4,5], 1, 5), matrix([1,2,3,4,5], 1, 5))\n",
    "l2 = Layer(matrix([1,2,3,4,5], 5, 1), matrix([1], 1, 1), activation=lin_act)\n",
    "l2.apply(l1.apply(x))\n"
   ]
  },
  {
   "cell_type": "code",
   "execution_count": 22,
   "metadata": {},
   "outputs": [
    {
     "name": "stdout",
     "output_type": "stream",
     "text": [
      "(100, 5)\n",
      "(1, 5)\n",
      "(100, 1)\n",
      "(5, 1)\n"
     ]
    },
    {
     "ename": "ValueError",
     "evalue": "operands could not be broadcast together with shapes (100,1) (5,1) ",
     "output_type": "error",
     "traceback": [
      "\u001b[1;31m---------------------------------------------------------------------------\u001b[0m",
      "\u001b[1;31mValueError\u001b[0m                                Traceback (most recent call last)",
      "\u001b[1;32m<ipython-input-22-d1c217066ea0>\u001b[0m in \u001b[0;36m<module>\u001b[1;34m\u001b[0m\n\u001b[0;32m      3\u001b[0m     \u001b[0mLayer\u001b[0m\u001b[1;33m(\u001b[0m\u001b[0mnp\u001b[0m\u001b[1;33m.\u001b[0m\u001b[0marray\u001b[0m\u001b[1;33m(\u001b[0m\u001b[1;33m[\u001b[0m\u001b[1;36m1\u001b[0m\u001b[1;33m,\u001b[0m\u001b[1;36m2\u001b[0m\u001b[1;33m,\u001b[0m\u001b[1;36m3\u001b[0m\u001b[1;33m,\u001b[0m\u001b[1;36m4\u001b[0m\u001b[1;33m,\u001b[0m\u001b[1;36m5\u001b[0m\u001b[1;33m]\u001b[0m\u001b[1;33m)\u001b[0m\u001b[1;33m.\u001b[0m\u001b[0mreshape\u001b[0m\u001b[1;33m(\u001b[0m\u001b[1;36m5\u001b[0m\u001b[1;33m,\u001b[0m \u001b[1;36m1\u001b[0m\u001b[1;33m)\u001b[0m\u001b[1;33m,\u001b[0m \u001b[0mnp\u001b[0m\u001b[1;33m.\u001b[0m\u001b[0marray\u001b[0m\u001b[1;33m(\u001b[0m\u001b[1;33m[\u001b[0m\u001b[1;36m0\u001b[0m\u001b[1;33m,\u001b[0m\u001b[1;36m0\u001b[0m\u001b[1;33m,\u001b[0m\u001b[1;36m0\u001b[0m\u001b[1;33m,\u001b[0m\u001b[1;36m0\u001b[0m\u001b[1;33m,\u001b[0m\u001b[1;36m0\u001b[0m\u001b[1;33m]\u001b[0m\u001b[1;33m)\u001b[0m\u001b[1;33m.\u001b[0m\u001b[0mreshape\u001b[0m\u001b[1;33m(\u001b[0m\u001b[1;36m5\u001b[0m\u001b[1;33m,\u001b[0m \u001b[1;36m1\u001b[0m\u001b[1;33m)\u001b[0m \u001b[1;33m)\u001b[0m\u001b[1;33m\u001b[0m\u001b[1;33m\u001b[0m\u001b[0m\n\u001b[0;32m      4\u001b[0m )\n\u001b[1;32m----> 5\u001b[1;33m \u001b[0mnn5\u001b[0m\u001b[1;33m.\u001b[0m\u001b[0mapply\u001b[0m\u001b[1;33m(\u001b[0m\u001b[0mx\u001b[0m\u001b[1;33m)\u001b[0m\u001b[1;33m\u001b[0m\u001b[1;33m\u001b[0m\u001b[0m\n\u001b[0m",
      "\u001b[1;32m<ipython-input-19-a85c52a7a503>\u001b[0m in \u001b[0;36mapply\u001b[1;34m(self, inputs)\u001b[0m\n\u001b[0;32m     24\u001b[0m         \u001b[0mx\u001b[0m \u001b[1;33m=\u001b[0m \u001b[0minputs\u001b[0m\u001b[1;33m\u001b[0m\u001b[1;33m\u001b[0m\u001b[0m\n\u001b[0;32m     25\u001b[0m         \u001b[1;32mfor\u001b[0m \u001b[0mlayer\u001b[0m \u001b[1;32min\u001b[0m \u001b[0mself\u001b[0m\u001b[1;33m.\u001b[0m\u001b[0mlayers\u001b[0m\u001b[1;33m:\u001b[0m\u001b[1;33m\u001b[0m\u001b[1;33m\u001b[0m\u001b[0m\n\u001b[1;32m---> 26\u001b[1;33m             \u001b[0mx\u001b[0m \u001b[1;33m=\u001b[0m \u001b[0mlayer\u001b[0m\u001b[1;33m.\u001b[0m\u001b[0mapply\u001b[0m\u001b[1;33m(\u001b[0m\u001b[0mx\u001b[0m\u001b[1;33m)\u001b[0m\u001b[1;33m\u001b[0m\u001b[1;33m\u001b[0m\u001b[0m\n\u001b[0m\u001b[0;32m     27\u001b[0m         \u001b[1;32mreturn\u001b[0m \u001b[0mx\u001b[0m\u001b[1;33m\u001b[0m\u001b[1;33m\u001b[0m\u001b[0m\n",
      "\u001b[1;32m<ipython-input-19-a85c52a7a503>\u001b[0m in \u001b[0;36mapply\u001b[1;34m(self, inputs)\u001b[0m\n\u001b[0;32m     11\u001b[0m         \u001b[0mprint\u001b[0m\u001b[1;33m(\u001b[0m\u001b[1;33m(\u001b[0m\u001b[0minputs\u001b[0m\u001b[1;33m@\u001b[0m \u001b[0mself\u001b[0m\u001b[1;33m.\u001b[0m\u001b[0mweights\u001b[0m\u001b[1;33m)\u001b[0m\u001b[1;33m.\u001b[0m\u001b[0mshape\u001b[0m\u001b[1;33m)\u001b[0m\u001b[1;33m\u001b[0m\u001b[1;33m\u001b[0m\u001b[0m\n\u001b[0;32m     12\u001b[0m         \u001b[0mprint\u001b[0m\u001b[1;33m(\u001b[0m\u001b[0mself\u001b[0m\u001b[1;33m.\u001b[0m\u001b[0mbias\u001b[0m\u001b[1;33m.\u001b[0m\u001b[0mshape\u001b[0m\u001b[1;33m)\u001b[0m\u001b[1;33m\u001b[0m\u001b[1;33m\u001b[0m\u001b[0m\n\u001b[1;32m---> 13\u001b[1;33m         \u001b[1;32mreturn\u001b[0m \u001b[0mself\u001b[0m\u001b[1;33m.\u001b[0m\u001b[0mactivation\u001b[0m\u001b[1;33m(\u001b[0m\u001b[0minputs\u001b[0m\u001b[1;33m@\u001b[0m \u001b[0mself\u001b[0m\u001b[1;33m.\u001b[0m\u001b[0mweights\u001b[0m \u001b[1;33m+\u001b[0m \u001b[0mself\u001b[0m\u001b[1;33m.\u001b[0m\u001b[0mbias\u001b[0m\u001b[1;33m)\u001b[0m\u001b[1;33m\u001b[0m\u001b[1;33m\u001b[0m\u001b[0m\n\u001b[0m\u001b[0;32m     14\u001b[0m \u001b[1;33m\u001b[0m\u001b[0m\n\u001b[0;32m     15\u001b[0m \u001b[1;33m\u001b[0m\u001b[0m\n",
      "\u001b[1;31mValueError\u001b[0m: operands could not be broadcast together with shapes (100,1) (5,1) "
     ]
    }
   ],
   "source": [
    "nn5 = NN(\n",
    "    Layer(np.array([1,2,3,4,5]).reshape(1, 5), np.array([0,0,0,0,0]).reshape(1, 5) ),\n",
    "    Layer(np.array([1,2,3,4,5]).reshape(5, 1), np.array([0,0,0,0,0]).reshape(5, 1) )\n",
    ")\n",
    "nn5.apply(x)"
   ]
  },
  {
   "cell_type": "code",
   "execution_count": 34,
   "metadata": {},
   "outputs": [
    {
     "data": {
      "text/plain": [
       "array([[1],\n",
       "       [2],\n",
       "       [3],\n",
       "       [4],\n",
       "       [5]])"
      ]
     },
     "execution_count": 34,
     "metadata": {},
     "output_type": "execute_result"
    }
   ],
   "source": [
    "np.array([1,2,3,4,5]).reshape(5, 1)"
   ]
  },
  {
   "cell_type": "code",
   "execution_count": 50,
   "metadata": {},
   "outputs": [
    {
     "data": {
      "text/plain": [
       "array([[ -9.4348462 ],\n",
       "       [  1.38603011],\n",
       "       [-75.29452617],\n",
       "       [104.9064334 ],\n",
       "       [  0.61211541],\n",
       "       [101.83349485],\n",
       "       [ 88.39281931],\n",
       "       [ 40.69591312],\n",
       "       [104.41107249],\n",
       "       [ 36.62635491],\n",
       "       [-18.31526183],\n",
       "       [-15.75096222],\n",
       "       [ -5.7915583 ],\n",
       "       [ 68.55335932],\n",
       "       [-75.00472546],\n",
       "       [ 61.64311184],\n",
       "       [ 47.87578981],\n",
       "       [-49.5316164 ],\n",
       "       [-32.24056696],\n",
       "       [ 16.52448992],\n",
       "       [ 47.55440034],\n",
       "       [106.6923106 ],\n",
       "       [ 63.7122715 ],\n",
       "       [ 26.54902164],\n",
       "       [ 81.06527082],\n",
       "       [-46.02626743],\n",
       "       [-30.27732667],\n",
       "       [ 76.92050841],\n",
       "       [ 50.94192792],\n",
       "       [-36.19513762],\n",
       "       [-74.22465677],\n",
       "       [-55.45777438],\n",
       "       [-40.8458076 ],\n",
       "       [  9.78422361],\n",
       "       [-44.49850911],\n",
       "       [ 55.97599875],\n",
       "       [-80.98218779],\n",
       "       [-10.21818181],\n",
       "       [ 16.52348385],\n",
       "       [-82.19766831],\n",
       "       [ 29.45877048],\n",
       "       [-52.10324743],\n",
       "       [-13.38705112],\n",
       "       [ 41.78413659],\n",
       "       [ 66.84599731],\n",
       "       [ 26.002017  ],\n",
       "       [-37.51209577],\n",
       "       [-65.1787506 ],\n",
       "       [-66.0196775 ],\n",
       "       [-23.74546388],\n",
       "       [ 45.97960407],\n",
       "       [-82.45401241],\n",
       "       [-42.35028329],\n",
       "       [ 97.10906951],\n",
       "       [ 95.68661411],\n",
       "       [ 58.81315294],\n",
       "       [-18.38364319],\n",
       "       [ 16.64969099],\n",
       "       [ 60.71511942],\n",
       "       [ 36.68815371],\n",
       "       [ 38.05222882],\n",
       "       [-40.69714309],\n",
       "       [-40.81079264],\n",
       "       [ -7.62808198],\n",
       "       [ 98.92272071],\n",
       "       [102.80204265],\n",
       "       [ 59.92214125],\n",
       "       [ 58.64983685],\n",
       "       [ 20.63404832],\n",
       "       [-82.06245403],\n",
       "       [ 34.72045962],\n",
       "       [ 78.58430019],\n",
       "       [ 62.16809332],\n",
       "       [  4.65082772],\n",
       "       [ 20.63957381],\n",
       "       [ 20.94501385],\n",
       "       [-82.23418761],\n",
       "       [-14.03430389],\n",
       "       [ 35.33561985],\n",
       "       [ 77.07136013],\n",
       "       [-13.83101512],\n",
       "       [ -3.45273828],\n",
       "       [ 27.89411055],\n",
       "       [ 31.01307344],\n",
       "       [ 56.03402878],\n",
       "       [ -6.4676888 ],\n",
       "       [ 94.44675636],\n",
       "       [102.79478151],\n",
       "       [-37.54672134],\n",
       "       [ 56.965788  ],\n",
       "       [ 91.44964609],\n",
       "       [ 33.66876132],\n",
       "       [ 39.06515504],\n",
       "       [ 97.94677606],\n",
       "       [ 81.21792951],\n",
       "       [ 29.11552307],\n",
       "       [ 75.62025535],\n",
       "       [-60.60916775],\n",
       "       [ 64.66774354],\n",
       "       [ 37.54559051]])"
      ]
     },
     "execution_count": 50,
     "metadata": {},
     "output_type": "execute_result"
    }
   ],
   "source": [
    "l1_w = np.array([1,2,3,4,5]).reshape(1,5)\n",
    "x1 = x @ l1_w\n",
    "l2_w = np.array([1,2,3,4,5]).reshape(5,1)\n",
    "x1 @ l2_w"
   ]
  },
  {
   "cell_type": "code",
   "execution_count": null,
   "metadata": {},
   "outputs": [],
   "source": []
  }
 ],
 "metadata": {
  "kernelspec": {
   "display_name": "Python 3 (ipykernel)",
   "language": "python",
   "name": "python3"
  },
  "language_info": {
   "codemirror_mode": {
    "name": "ipython",
    "version": 3
   },
   "file_extension": ".py",
   "mimetype": "text/x-python",
   "name": "python",
   "nbconvert_exporter": "python",
   "pygments_lexer": "ipython3",
   "version": "3.9.7"
  }
 },
 "nbformat": 4,
 "nbformat_minor": 2
}
