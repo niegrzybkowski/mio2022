{
 "cells": [
  {
   "cell_type": "code",
   "execution_count": 16,
   "metadata": {},
   "outputs": [],
   "source": [
    "import numpy as np\n",
    "import pandas as pd\n",
    "import matplotlib.pyplot as plt\n",
    "\n",
    "def MSE(x, y):\n",
    "    return np.sum((x - y)**2) / len(x)\n",
    "\n",
    "def lin_act(x):\n",
    "    return x\n",
    "\n",
    "def sigmoid(x):\n",
    "    return np.exp(x) / (np.exp(x)+1)\n",
    "\n",
    "class Layer:   \n",
    "    def __init__(self, neurons, input_shape, weights, bias, activation):\n",
    "        self.neurons = neurons\n",
    "        self.input_shape = input_shape\n",
    "        assert weights.shape == (input_shape[1], neurons)\n",
    "        self.weights = weights\n",
    "        assert bias.shape == (1, neurons)\n",
    "        self.bias = bias\n",
    "        self.activation = activation\n",
    "        \n",
    "    def make_zero(neurons, input_shape, activation):\n",
    "        return Layer(\n",
    "            neurons = neurons,\n",
    "            input_shape = input_shape,\n",
    "            weights = np.zeros((input_shape[1], neurons)),\n",
    "            bias = np.zeros((1, neurons)),\n",
    "            activation = activation\n",
    "        )\n",
    "    \n",
    "    def apply(self, inputs):\n",
    "        intensities = inputs @ self.weights\n",
    "        return self.activation(intensities + self.bias)\n",
    "\n",
    "\n",
    "class NN:\n",
    "    def __init__(self, *layers, input_shape):\n",
    "        self.input_shape = input_shape\n",
    "        self.layers = [*layers]\n",
    "    \n",
    "    def add_new_zero_layer(self, neurons, activation=sigmoid):\n",
    "        if self.layers:\n",
    "            last_layer_shape = self.layers[-1].weights.shape\n",
    "        else:\n",
    "            last_layer_shape = self.input_shape\n",
    "        layer = Layer.make_zero(neurons, last_layer_shape, activation)\n",
    "        self.layers.append(layer)\n",
    "        return layer\n",
    "        \n",
    "    def apply(self, inputs):\n",
    "        x = inputs\n",
    "        for layer in self.layers:\n",
    "            x = layer.apply(x)\n",
    "        return x"
   ]
  },
  {
   "cell_type": "markdown",
   "metadata": {},
   "source": [
    "## Simple squares"
   ]
  },
  {
   "cell_type": "code",
   "execution_count": 4,
   "metadata": {},
   "outputs": [],
   "source": [
    "square_simple_test =  pd.read_csv(\"LAB1_DANE/regression/square-simple-test.csv\")\n",
    "x = np.array(square_simple_test.iloc[:, 1]).reshape(100, 1)\n",
    "y= np.array(square_simple_test.iloc[:, 2]).reshape(100, 1)"
   ]
  },
  {
   "cell_type": "code",
   "execution_count": 5,
   "metadata": {},
   "outputs": [
    {
     "data": {
      "image/png": "[encoded data removed]",
      "text/plain": [
       "<Figure size 432x288 with 1 Axes>"
      ]
     },
     "metadata": {
      "needs_background": "light"
     },
     "output_type": "display_data"
    }
   ],
   "source": [
    "plt.scatter(x, y)\n",
    "plt.show()"
   ]
  },
  {
   "cell_type": "code",
   "execution_count": 6,
   "metadata": {},
   "outputs": [],
   "source": [
    "nn = NN(input_shape=x.shape)\n",
    "hidden = nn.add_new_zero_layer(10)\n",
    "output = nn.add_new_zero_layer(1, activation=lin_act)"
   ]
  },
  {
   "cell_type": "code",
   "execution_count": 7,
   "metadata": {},
   "outputs": [
    {
     "data": {
      "text/plain": [
       "array([[0., 0., 0., 0., 0., 0., 0., 0., 0., 0.]])"
      ]
     },
     "execution_count": 7,
     "metadata": {},
     "output_type": "execute_result"
    }
   ],
   "source": [
    "hidden.weights "
   ]
  },
  {
   "cell_type": "code",
   "execution_count": 8,
   "metadata": {},
   "outputs": [
    {
     "data": {
      "image/png": "[encoded data removed]",
      "text/plain": [
       "<Figure size 432x288 with 1 Axes>"
      ]
     },
     "metadata": {
      "needs_background": "light"
     },
     "output_type": "display_data"
    },
    {
     "name": "stdout",
     "output_type": "stream",
     "text": [
      "MSE: 6.9112\n"
     ]
    }
   ],
   "source": [
    "down1 = -1.\n",
    "down2 = -0.7\n",
    "down3 = -0.3\n",
    "down4 = 0\n",
    "\n",
    "up1 = 0.5\n",
    "up2 = 0.72\n",
    "up3 = 1.0\n",
    "up4 = 0.9\n",
    "up5 = 1.3\n",
    "\n",
    "hidden.weights = 10 * np.array([\n",
    "    [down1, down2, down3, down4,           0, up1, up2, up3, up4, up5]\n",
    "])\n",
    "hidden.bias = 10 * np.array([\n",
    "    [1.4*down1, 1.06*down2, 0.56*down3, down4, 0, -0.57*up1, -1.16*up2, -1.513*up3, -1.8*up4, -1.8*up5]\n",
    "])\n",
    "\n",
    "output.weights = 100 * np.array(\n",
    "    [[0.5], [0.88], [1.], [1.], [1], [1.], [.9], [0.8], [0.5], [0.6]])\n",
    "output.bias = np.array([[-253.1 ]])\n",
    "\n",
    "plt.scatter(x, y)\n",
    "plt.scatter(x, nn.apply(x))\n",
    "plt.show()\n",
    "print(f\"MSE: {MSE(nn.apply(x), y):.5}\")"
   ]
  },
  {
   "cell_type": "markdown",
   "metadata": {},
   "source": [
    "# Steps"
   ]
  },
  {
   "cell_type": "code",
   "execution_count": 9,
   "metadata": {},
   "outputs": [],
   "source": [
    "square_simple_test =  pd.read_csv(\"LAB1_DANE/regression/steps-large-test.csv\")\n",
    "x = np.array(square_simple_test.iloc[:, 1]).reshape(1000, 1)\n",
    "y = np.array(square_simple_test.iloc[:, 2]).reshape(1000, 1)"
   ]
  },
  {
   "cell_type": "code",
   "execution_count": 10,
   "metadata": {},
   "outputs": [
    {
     "data": {
      "image/png": "[encoded data removed]",
      "text/plain": [
       "<Figure size 432x288 with 1 Axes>"
      ]
     },
     "metadata": {
      "needs_background": "light"
     },
     "output_type": "display_data"
    }
   ],
   "source": [
    "plt.scatter(x, y)\n",
    "plt.show()"
   ]
  },
  {
   "cell_type": "code",
   "execution_count": 11,
   "metadata": {},
   "outputs": [],
   "source": [
    "nn = NN(input_shape=x.shape)\n",
    "hidden = nn.add_new_zero_layer(5)\n",
    "output = nn.add_new_zero_layer(1, activation=lin_act)"
   ]
  },
  {
   "cell_type": "code",
   "execution_count": 12,
   "metadata": {},
   "outputs": [],
   "source": [
    "from dataclasses import dataclass\n",
    "@dataclass\n",
    "class Step:\n",
    "    intensity: float\n",
    "    position: float\n",
    "    @property\n",
    "    def bias(self):\n",
    "        return - self.intensity * self.position\n",
    "    @property\n",
    "    def weight(self):\n",
    "        return self.intensity"
   ]
  },
  {
   "cell_type": "code",
   "execution_count": 13,
   "metadata": {},
   "outputs": [
    {
     "data": {
      "image/png": "[encoded data removed]",
      "text/plain": [
       "<Figure size 432x288 with 1 Axes>"
      ]
     },
     "metadata": {
      "needs_background": "light"
     },
     "output_type": "display_data"
    },
    {
     "name": "stdout",
     "output_type": "stream",
     "text": [
      "MSE: 8.1295\n"
     ]
    }
   ],
   "source": [
    "step1 = Step(250, -0.5)\n",
    "step2 = Step(250, 0.5)\n",
    "step3 = Step(250, 1.5)\n",
    "\n",
    "hidden.weights = np.array([[step1.weight, step2.weight, step3.weight, 0., 0.]])\n",
    "hidden.bias = np.array([[step1.bias, step2.bias, step3.bias, 0., 0.]])\n",
    "\n",
    "output.weights = np.array([[80.],[80.],[80.],[0.],[0.]])\n",
    "output.bias = np.array([[-80]])\n",
    "\n",
    "\n",
    "plt.scatter(x, y)\n",
    "plt.scatter(x, nn.apply(x))\n",
    "plt.show()\n",
    "print(f\"MSE: {MSE(nn.apply(x), y):.5}\")"
   ]
  },
  {
   "cell_type": "code",
   "execution_count": null,
   "metadata": {},
   "outputs": [],
   "source": []
  }
 ],
 "metadata": {
  "kernelspec": {
   "display_name": "Python 3 (ipykernel)",
   "language": "python",
   "name": "python3"
  },
  "language_info": {
   "codemirror_mode": {
    "name": "ipython",
    "version": 3
   },
   "file_extension": ".py",
   "mimetype": "text/x-python",
   "name": "python",
   "nbconvert_exporter": "python",
   "pygments_lexer": "ipython3",
   "version": "3.9.7"
  }
 },
 "nbformat": 4,
 "nbformat_minor": 4
}
